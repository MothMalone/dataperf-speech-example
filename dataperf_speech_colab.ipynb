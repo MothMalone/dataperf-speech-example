{
  "cells": [
    {
      "cell_type": "markdown",
      "metadata": {
        "id": "E5uSni11iDCb"
      },
      "source": [
        "This notebook works through running the [DataPerf Speech](https://www.dataperf.org/training-set-selection-speech) challenge evaluation with a [baseline selection algorithm](https://github.com/harvard-edge/dataperf-speech-example/blob/main/selection/implementations/baseline_selection.py).\n",
        "\n",
        "We start by cloning our example selection algorithm repository and installing some additional dependencies not preinstalled in Colab environments:"
      ]
    },
    {
      "cell_type": "code",
      "execution_count": null,
      "metadata": {
        "id": "LErPly0cbAsO"
      },
      "outputs": [
        {
          "name": "stdout",
          "output_type": "stream",
          "text": [
            "Cloning into 'dataperf-speech-example'...\n",
            "remote: Enumerating objects: 426, done.\u001b[K\n",
            "remote: Counting objects: 100% (37/37), done.\u001b[K\n",
            "remote: Compressing objects: 100% (29/29), done.\u001b[K\n",
            "remote: Total 426 (delta 11), reused 8 (delta 8), pack-reused 389 (from 1)\u001b[K\n",
            "Receiving objects: 100% (426/426), 120.71 KiB | 889.00 KiB/s, done.\n",
            "Resolving deltas: 100% (230/230), done.\n"
          ]
        },
        {
          "ename": "FileNotFoundError",
          "evalue": "[Errno 2] No such file or directory: '/content/dataperf-speech-example/'",
          "output_type": "error",
          "traceback": [
            "\u001b[0;31m---------------------------------------------------------------------------\u001b[0m",
            "\u001b[0;31mFileNotFoundError\u001b[0m                         Traceback (most recent call last)",
            "Cell \u001b[0;32mIn[1], line 6\u001b[0m\n\u001b[1;32m      4\u001b[0m sys\u001b[38;5;241m.\u001b[39mpath\u001b[38;5;241m.\u001b[39mappend(\u001b[38;5;124m\"\u001b[39m\u001b[38;5;124m/content/dataperf-speech-example/\u001b[39m\u001b[38;5;124m\"\u001b[39m)\n\u001b[1;32m      5\u001b[0m \u001b[38;5;28;01mimport\u001b[39;00m\u001b[38;5;250m \u001b[39m\u001b[38;5;21;01mos\u001b[39;00m\n\u001b[0;32m----> 6\u001b[0m \u001b[43mos\u001b[49m\u001b[38;5;241;43m.\u001b[39;49m\u001b[43mchdir\u001b[49m\u001b[43m(\u001b[49m\u001b[38;5;124;43m\"\u001b[39;49m\u001b[38;5;124;43m/content/dataperf-speech-example/\u001b[39;49m\u001b[38;5;124;43m\"\u001b[39;49m\u001b[43m)\u001b[49m\n",
            "\u001b[0;31mFileNotFoundError\u001b[0m: [Errno 2] No such file or directory: '/content/dataperf-speech-example/'"
          ]
        }
      ],
      "source": [
        "!pip install -q fire wget\n",
        "!git clone https://github.com/harvard-edge/dataperf-speech-example/\n",
        "import sys\n",
        "sys.path.append(\"/content/dataperf-speech-example/\")\n",
        "import os\n"
      ]
    },
    {
      "cell_type": "markdown",
      "metadata": {
        "id": "aSzmJSd-liEX"
      },
      "source": [
        "Next, we download the spoken word embeddings which we will use for training coreset selection and evaluation."
      ]
    },
    {
      "cell_type": "code",
      "execution_count": 3,
      "metadata": {},
      "outputs": [],
      "source": [
        "os.chdir(\"dataperf-speech-example/\")"
      ]
    },
    {
      "cell_type": "code",
      "execution_count": 4,
      "metadata": {
        "id": "TiJKEor_fo4k"
      },
      "outputs": [],
      "source": [
        "!python utils/download_data.py --output_path workspace/data 1> /dev/null"
      ]
    },
    {
      "cell_type": "markdown",
      "metadata": {
        "id": "wXWqcH_PfH_f"
      },
      "source": [
        "Below, we generate a set of 25 training samples from the available embeddings for each language, using our default selection algorithm (which simply performs crossfold-validation). The evaluation strategy can be changed by editing `dataperf-speech-example/workspace/dataperf_speech_config.yaml` \n",
        "\n",
        "The goal of this challenge is to add your own selection algorithm and outperform the provided baselines' macro F1 scores.\n",
        "\n",
        "The selection algorithm will output a training file for each language, `en_25_train.json`, `id_25_train.json`, and `pt_25_train.json`.\n",
        "\n",
        "These are the files you would upload to Dynabench for official evaluation, but in the next cell, we will run local unofficial evaluation using our provided evaluation data."
      ]
    },
    {
      "cell_type": "code",
      "execution_count": 6,
      "metadata": {
        "id": "hWbNznXKdic7"
      },
      "outputs": [
        {
          "name": "stdout",
          "output_type": "stream",
          "text": [
            "Loading targets: 100%|████████████████████████████| 5/5 [00:00<00:00, 19.52it/s]\n",
            "Loading nontargets: 100%|█████████████████████| 100/100 [00:06<00:00, 15.42it/s]\n",
            "num_targets: 15\n",
            "per_target_class_size: 3\n",
            "nontarget_class_size: 10\n",
            "Using original method to select data subset ...\n",
            "k-fold cross validation: 100%|██████████████████| 10/10 [01:41<00:00, 10.19s/it]\n",
            "final best_score=0.6537003019500972\n",
            "Loading targets: 100%|████████████████████████████| 5/5 [00:00<00:00, 50.66it/s]\n",
            "Loading nontargets: 100%|█████████████████████| 100/100 [00:01<00:00, 84.34it/s]\n",
            "num_targets: 15\n",
            "per_target_class_size: 3\n",
            "nontarget_class_size: 10\n",
            "Using original method to select data subset ...\n",
            "k-fold cross validation: 100%|██████████████████| 10/10 [00:27<00:00,  2.74s/it]\n",
            "final best_score=0.6481170711274378\n",
            "Loading targets: 100%|████████████████████████████| 5/5 [00:00<00:00, 23.32it/s]\n",
            "Loading nontargets: 100%|█████████████████████| 100/100 [00:03<00:00, 30.19it/s]\n",
            "num_targets: 15\n",
            "per_target_class_size: 3\n",
            "nontarget_class_size: 10\n",
            "Using original method to select data subset ...\n",
            "k-fold cross validation: 100%|██████████████████| 10/10 [00:58<00:00,  5.82s/it]\n",
            "final best_score=0.8090160412403251\n"
          ]
        }
      ],
      "source": [
        "TRAIN_SIZE = 25 # or 60\n",
        "for lang in [\"en\", \"id\", \"pt\"]:\n",
        "  !python -m selection.main \\\n",
        "     --language \"{lang}\" \\\n",
        "     --allowed_training_set \"workspace/data/dataperf_{lang}_data/allowed_training_set.yaml\" \\\n",
        "     --train_embeddings_dir \"workspace/data//dataperf_{lang}_data/train_embeddings/\" \\\n",
        "     --train_size {TRAIN_SIZE} \\\n",
        "     --outdir \"\""
      ]
    },
    {
      "cell_type": "markdown",
      "metadata": {
        "id": "s9SoqEJGg-u_"
      },
      "source": [
        "Finally, let's run a local unofficial evaluation on the results of the training set selection algorithm (`en_25_train.json`, `id_25_train.json`, and `pt_25_train.json`). \n",
        "\n",
        "For each language, we load the coreset training samples specified in the  JSON file, along with evaluation samples specified in `eval.yaml`. We then train an ensemble classifier and [average the macro F1 score across ten random seeds](https://github.com/harvard-edge/dataperf-speech-example/blob/main/eval.py#L139-L154), and display the score (which should match the scores on the DynaBench leaderboard for the coreset sizes of 25 and 60). \n",
        "\n",
        "Here is the expected output for English with a coreset size of 25, using the input of `en_25_train.json` produced by the previous cell:\n",
        "\n",
        "```\n",
        "validating selected IDs\n",
        "loading selected training data\n",
        "Loading targets: 100% 5/5 [00:00<00:00, 17.97it/s]\n",
        "Loading nontargets: 100% 9/9 [00:00<00:00, 140.54it/s]\n",
        "loading eval data\n",
        "Loading targets: 100% 5/5 [00:00<00:00, 119.50it/s]\n",
        "Loading nontargets: 100% 200/200 [00:12<00:00, 16.11it/s]\n",
        "\n",
        "Score:  0.3524448610675314\n",
        "```\n"
      ]
    },
    {
      "cell_type": "code",
      "execution_count": 11,
      "metadata": {
        "id": "6iwATQs1fGXR"
      },
      "outputs": [
        {
          "name": "stdout",
          "output_type": "stream",
          "text": [
            "validating selected IDs\n",
            "loading selected training data\n",
            "Loading targets: 100%|████████████████████████████| 5/5 [00:00<00:00, 18.83it/s]\n",
            "Loading nontargets: 100%|████████████████████████| 9/9 [00:00<00:00, 106.17it/s]\n",
            "loading eval data\n",
            "Loading targets: 100%|████████████████████████████| 5/5 [00:00<00:00, 70.26it/s]\n",
            "Loading nontargets: 100%|█████████████████████| 200/200 [00:18<00:00, 10.55it/s]\n",
            "Score:  0.31644245062823384\n",
            "validating selected IDs\n",
            "loading selected training data\n",
            "Loading targets: 100%|████████████████████████████| 5/5 [00:00<00:00, 52.14it/s]\n",
            "Loading nontargets: 100%|██████████████████████| 10/10 [00:00<00:00, 182.26it/s]\n",
            "loading eval data\n",
            "Loading targets: 100%|███████████████████████████| 5/5 [00:00<00:00, 139.98it/s]\n",
            "Loading nontargets: 100%|█████████████████████| 200/200 [00:03<00:00, 62.03it/s]\n",
            "Score:  0.3815048781660937\n",
            "validating selected IDs\n",
            "loading selected training data\n",
            "Loading targets: 100%|████████████████████████████| 5/5 [00:00<00:00, 24.01it/s]\n",
            "Loading nontargets: 100%|██████████████████████| 10/10 [00:00<00:00, 129.66it/s]\n",
            "loading eval data\n",
            "Loading targets: 100%|████████████████████████████| 5/5 [00:00<00:00, 77.96it/s]\n",
            "Loading nontargets: 100%|█████████████████████| 200/200 [00:09<00:00, 20.77it/s]\n",
            "Score:  0.4229489086891056\n"
          ]
        }
      ],
      "source": [
        "for lang in [\"en\", \"id\", \"pt\"]:\n",
        "  !python eval.py \\\n",
        "    --language \"{lang}\" \\\n",
        "    --eval_embeddings_dir \"workspace/data/dataperf_{lang}_data/eval_embeddings/\" \\\n",
        "    --train_embeddings_dir \"workspace/data/dataperf_{lang}_data/train_embeddings/\" \\\n",
        "    --allowed_training_set \"workspace/data/dataperf_{lang}_data/allowed_training_set.yaml\" \\\n",
        "    --eval_file \"workspace/data/dataperf_{lang}_data/eval.yaml\" \\\n",
        "    --train_file \"{lang}_{TRAIN_SIZE}_train.json\" \\\n",
        "    --train_size {TRAIN_SIZE} \\\n",
        "    --config_file workspace/dataperf_speech_config.yaml\n",
        "\n",
        "\n"
      ]
    },
    {
      "cell_type": "markdown",
      "metadata": {},
      "source": []
    }
  ],
  "metadata": {
    "colab": {
      "private_outputs": true,
      "provenance": []
    },
    "kernelspec": {
      "display_name": "venv",
      "language": "python",
      "name": "python3"
    },
    "language_info": {
      "codemirror_mode": {
        "name": "ipython",
        "version": 3
      },
      "file_extension": ".py",
      "mimetype": "text/x-python",
      "name": "python",
      "nbconvert_exporter": "python",
      "pygments_lexer": "ipython3",
      "version": "3.10.12"
    }
  },
  "nbformat": 4,
  "nbformat_minor": 0
}
